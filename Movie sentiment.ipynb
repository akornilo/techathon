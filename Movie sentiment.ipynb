{
 "cells": [
  {
   "cell_type": "code",
   "execution_count": 58,
   "metadata": {
    "collapsed": false
   },
   "outputs": [],
   "source": [
    "# SETUP MAGIC\n",
    "f = open(\"train.tsv\")\n",
    "cur = -1\n",
    "all_X = []\n",
    "all_y = []\n",
    "for line in f:\n",
    "    if cur == -1: # Skip first line\n",
    "        cur += 1\n",
    "        continue\n",
    "    parts = line.split('\\t')\n",
    "    if cur < int(parts[1]):\n",
    "        all_X.append(parts[2])\n",
    "        all_y.append(int(parts[3]))\n",
    "        cur += 1\n",
    "\n",
    "# Split up 0-1: negative, 2(neutral) - skip, 3-4: positive\n",
    "all_X2 = []\n",
    "all_y2 = []\n",
    "all_bad = []\n",
    "all_good = []\n",
    "for i in range(len(all_X)):\n",
    "    if all_y[i] == 2:\n",
    "        continue\n",
    "    \n",
    "    new_y = -1 if all_y[i] < 2 else 1\n",
    "    \n",
    "    all_y2.append(new_y)\n",
    "    all_X2.append(all_X[i])\n",
    "    \n",
    "    if new_y == -1:\n",
    "        all_bad.append(all_X[i])\n",
    "    else:\n",
    "        all_good.append(all_X[i])"
   ]
  },
  {
   "cell_type": "code",
   "execution_count": 64,
   "metadata": {
    "collapsed": false
   },
   "outputs": [
    {
     "name": "stdout",
     "output_type": "stream",
     "text": [
      "Negative:\n",
      "Even fans of Ismail Merchant 's work , I suspect , would have a hard time sitting through this one .\n",
      "\n",
      "Positive:\n",
      "Best indie of the year , so far .\n"
     ]
    }
   ],
   "source": [
    "# A bad example\n",
    "print \"Negative:\"\n",
    "print all_bad[1]\n",
    "print\n",
    "# A good one\n",
    "print \"Positive:\"\n",
    "print all_good[9]"
   ]
  },
  {
   "cell_type": "code",
   "execution_count": 86,
   "metadata": {
    "collapsed": false
   },
   "outputs": [
    {
     "name": "stdout",
     "output_type": "stream",
     "text": [
      "In human: It 's like going to a house party and watching the host defend himself against a frothing ex-girlfriend .\n",
      "In computer: [[0 0 0 ..., 0 0 0]]\n"
     ]
    }
   ],
   "source": [
    "from sklearn.feature_extraction.text import CountVectorizer, TfidfVectorizer\n",
    "vectorizer = CountVectorizer(min_df=5, stop_words='english', ngram_range=(1, 3))\n",
    "vX = vectorizer.fit_transform(all_X2)\n",
    "\n",
    "print \"In human:\", all_X2[20]\n",
    "print \"In computer:\", vX[20].toarray()"
   ]
  },
  {
   "cell_type": "code",
   "execution_count": 89,
   "metadata": {
    "collapsed": false
   },
   "outputs": [
    {
     "data": {
      "text/plain": [
       "SVC(C=1, cache_size=200, class_weight=None, coef0=0.0,\n",
       "  decision_function_shape=None, degree=3, gamma='auto', kernel='linear',\n",
       "  max_iter=-1, probability=False, random_state=None, shrinking=True,\n",
       "  tol=0.001, verbose=False)"
      ]
     },
     "execution_count": 89,
     "metadata": {},
     "output_type": "execute_result"
    }
   ],
   "source": [
    "from sklearn.model_selection import train_test_split\n",
    "X_train, X_test, y_train, y_test = train_test_split(vX, all_y2, test_size=0.2)\n",
    "from sklearn.svm import SVC\n",
    "clf = SVC(kernel='linear', C=1)\n",
    "clf.fit(X_train, y_train)\n"
   ]
  },
  {
   "cell_type": "code",
   "execution_count": 90,
   "metadata": {
    "collapsed": false
   },
   "outputs": [
    {
     "name": "stdout",
     "output_type": "stream",
     "text": [
      "92.8286129267\n",
      "75.0181554103\n"
     ]
    }
   ],
   "source": [
    "# How well we are doing:\n",
    "print clf.score(X_train, y_train) * 100\n",
    "print clf.score(X_test, y_test) * 100"
   ]
  },
  {
   "cell_type": "code",
   "execution_count": 91,
   "metadata": {
    "collapsed": false
   },
   "outputs": [
    {
     "data": {
      "text/plain": [
       "array([-1,  1])"
      ]
     },
     "execution_count": 91,
     "metadata": {},
     "output_type": "execute_result"
    }
   ],
   "source": [
    "# Let's look at some specific examples\n",
    "testX = [\"I have never seen a movie so dull and uninspired\", \"What a masterpiece, everyone must see it\"]\n",
    "textVX = vectorizer.transform(testX)\n",
    "clf.predict(textVX)"
   ]
  },
  {
   "cell_type": "code",
   "execution_count": 96,
   "metadata": {
    "collapsed": false
   },
   "outputs": [
    {
     "data": {
      "text/plain": [
       "[(-2.0, u'throws'),\n",
       " (-1.9330584283740495, u'knowledge'),\n",
       " (-1.8237252052965494, u'rise'),\n",
       " (-1.7646188592245933, u'acts'),\n",
       " (-1.721978999336383, u'context'),\n",
       " (-1.7149508625620624, u'thoroughly'),\n",
       " (-1.6403974956751637, u'memory'),\n",
       " (-1.6375962854532924, u'loves'),\n",
       " (-1.6019483007599626, u'scenes'),\n",
       " (-1.5673042301791544, u'little'),\n",
       " (-1.5561083401461144, u'superficial'),\n",
       " (-1.5525062412051105, u'gives'),\n",
       " (-1.5255936378909059, u'drawn'),\n",
       " (-1.5101434724014378, u'document'),\n",
       " (-1.478283017610742, u'searching'),\n",
       " (-1.4753025160569726, u'adams'),\n",
       " (-1.4646256949572312, u'starts'),\n",
       " (-1.4640396229186812, u'engaging'),\n",
       " (-1.4037116547267507, u'light'),\n",
       " (-1.3997989987162449, u'delightful'),\n",
       " (-1.3886864814341839, u'search'),\n",
       " (-1.3619214381118936, u'spite'),\n",
       " (-1.3526686384548321, u'possibly'),\n",
       " (-1.3450119250199826, u'values'),\n",
       " (-1.3254031682868259, u'heads'),\n",
       " (-1.3103035643135859, u'michael moore'),\n",
       " (-1.2979669844960788, u'ethnic'),\n",
       " (-1.2927429828120582, u'bits'),\n",
       " (-1.2806564063146377, u'happens'),\n",
       " (-1.2801571406814405, u'providing'),\n",
       " (-1.2702750509798308, u'nicholson'),\n",
       " (-1.2617565418072536, u'worthy'),\n",
       " (-1.2607018998342348, u'payne'),\n",
       " (-1.2511378987775119, u'harvard'),\n",
       " (-1.2412264464417642, u'source'),\n",
       " (-1.2410052958431592, u'guilty pleasure'),\n",
       " (-1.2409794658986919, u'uses'),\n",
       " (-1.2250628962453516, u'special effects'),\n",
       " (-1.21839168722305, u'intelligent'),\n",
       " (-1.2179686959969642, u'said'),\n",
       " (-1.2098880886429981, u'merchant'),\n",
       " (-1.2087415964554862, u'grade'),\n",
       " (-1.2061746438169532, u'odd'),\n",
       " (-1.2046078298917962, u'figure'),\n",
       " (-1.2003927985764986, u'writers'),\n",
       " (-1.1980207888948442, u'authority'),\n",
       " (-1.1923161453702673, u'unique'),\n",
       " (-1.1883933736628105, u'blown'),\n",
       " (-1.1862936067911893, u'twisted'),\n",
       " (-1.1809826282209499, u'children'),\n",
       " (-1.1760051128691371, u'fight'),\n",
       " (-1.1564774248192662, u'looked'),\n",
       " (-1.1517010819303466, u'hollywood'),\n",
       " (-1.1503850929867618, u'dialogue'),\n",
       " (-1.1481641635713962, u'masterfully'),\n",
       " (-1.1478589543040141, u'elegantly'),\n",
       " (-1.1469925878640916, u'sticks'),\n",
       " (-1.1451905460817016, u'friends'),\n",
       " (-1.1427749264011573, u'spy kids'),\n",
       " (-1.1424099540619113, u'austin'),\n",
       " (-1.1409707933670585, u'surrounding'),\n",
       " (-1.1396622715042894, u'authentic'),\n",
       " (-1.1362119465786, u'drag'),\n",
       " (-1.1309959105584202, u'bizarre'),\n",
       " (-1.1307837760483344, u'disappointing'),\n",
       " (-1.1203008020031429, u'finest'),\n",
       " (-1.1157397779088543, u'inside'),\n",
       " (-1.115464244204867, u'youth'),\n",
       " (-1.1122024967043354, u'frida'),\n",
       " (-1.1119446290168744, u'complications'),\n",
       " (-1.1115947587377393, u'apparent'),\n",
       " (-1.110596333376705, u'funny'),\n",
       " (-1.109986115696739, u'edgy'),\n",
       " (-1.108114820498376, u'ryan gosling'),\n",
       " (-1.1079439427038138, u'happened'),\n",
       " (-1.103515666363152, u'urge'),\n",
       " (-1.1023400404876209, u'current'),\n",
       " (-1.100286878580748, u'essence'),\n",
       " (-1.0998915628925314, u'involved'),\n",
       " (-1.0978295358868162, u'category'),\n",
       " (-1.0962630934412529, u'exceptional'),\n",
       " (-1.0907955206802225, u'vulgar'),\n",
       " (-1.0872307900031859, u'eyed'),\n",
       " (-1.0845547363746582, u'heart'),\n",
       " (-1.0841063983993418, u'war ii'),\n",
       " (-1.0836526531624535, u'honestly'),\n",
       " (-1.0830623584323116, u'sense humor'),\n",
       " (-1.0817095106201389, u'biopic'),\n",
       " (-1.0781556815001361, u'way'),\n",
       " (-1.0753638352595629, u'conviction'),\n",
       " (-1.0726174316548285, u'adam'),\n",
       " (-1.0703537372621281, u'charm'),\n",
       " (-1.068761752010785, u'observations'),\n",
       " (-1.0624170343410231, u'meaningful'),\n",
       " (-1.0603102529755122, u'suspect'),\n",
       " (-1.0501009853867731, u'short'),\n",
       " (-1.0489743014402884, u'paul'),\n",
       " (-1.0470246190503341, u'spooky'),\n",
       " (-1.0460900380129836, u'action sequences'),\n",
       " (-1.0459368496323342, u'charming')]"
      ]
     },
     "execution_count": 96,
     "metadata": {},
     "output_type": "execute_result"
    }
   ],
   "source": [
    "# What does it mean: -- try to do relative thing instead\n",
    "sorted(zip(clf.coef_.toarray()[0], vectorizer.vocabulary_))[:100]"
   ]
  },
  {
   "cell_type": "code",
   "execution_count": 105,
   "metadata": {
    "collapsed": false
   },
   "outputs": [],
   "source": [
    "good_words = []\n",
    "for good_sent in all_good:\n",
    "    good_words += good_sent.lower().split()\n",
    "\n",
    "    bad_words = []\n",
    "for bad_sent in all_bad:\n",
    "    bad_words += bad_sent.lower().split()\n",
    "\n",
    "from collections import Counter\n",
    "good_counts = Counter(good_words)\n",
    "bad_counts = Counter(bad_words)"
   ]
  },
  {
   "cell_type": "code",
   "execution_count": 117,
   "metadata": {
    "collapsed": false
   },
   "outputs": [],
   "source": [
    "# Find relatively impactful words\n",
    "all_words = set(good_counts.keys()).union(set(bad_counts.keys()))\n",
    "\n",
    "goodness = []\n",
    "badness = []\n",
    "for word in all_words:\n",
    "    goodness.append((word, (good_counts.get(word, 0.)/(bad_counts.get(word, 1.)))))\n",
    "    badness.append((word, (bad_counts.get(word, 0.)/(good_counts.get(word, 1.)))))"
   ]
  },
  {
   "cell_type": "code",
   "execution_count": 122,
   "metadata": {
    "collapsed": false
   },
   "outputs": [
    {
     "name": "stdout",
     "output_type": "stream",
     "text": [
      "[('enjoyed', 10.0), ('vividly', 10.0), ('thoughtful', 10), ('haunting', 10), ('faith', 10), ('undeniably', 10.0), ('gem', 10.0), ('vibrant', 10.0), ('heartwarming', 10.0), ('polanski', 10), ('intense', 10), ('delicate', 11), ('delivers', 11), ('wonderfully', 11.0), ('thought-provoking', 11.0), ('force', 11), ('chilling', 11), ('absorbing', 11), ('extraordinary', 11), ('riveting', 12.0), ('imax', 12), ('means', 12), ('amazing', 12), ('delight', 12), ('heartfelt', 12), ('oddly', 12), ('meditation', 12), ('vivid', 13), ('terrific', 13), ('unique', 13), ('places', 13), ('treat', 14), ('form', 14), ('refreshing', 14.0), ('inventive', 15.0), ('provides', 15.0), ('somewhat', 16), ('brings', 17), ('portrait', 17), ('perfectly', 17.0), ('unexpected', 17), ('eyes', 20), ('warm', 21), ('captures', 21), ('engrossing', 22), ('wonderful', 24), ('remarkable', 24), ('touching', 27), ('solid', 33.0), ('powerful', 37.0)]\n",
      "\n",
      "\n",
      "[('holes', 10.0), ('failure', 10), ('joke', 10.0), ('contrived', 10), ('inept', 10.0), ('horrible', 10), ('starts', 10), ('lazy', 10), ('pay', 10.0), ('lousy', 10.0), ('editing', 10), ('badly', 10.0), ('weak', 10), ('annoying', 10), ('house', 10), ('loses', 10), ('disguise', 11.0), ('product', 11.0), ('virtually', 11), ('pretentious', 11), ('worst', 11), ('wasted', 11), ('bore', 11), ('seagal', 11.0), ('missing', 11), ('amateurish', 11), ('queen', 11.0), ('empty', 11), ('offensive', 11), ('tiresome', 11.0), ('lawrence', 11), ('lame', 11), ('poor', 12), ('stale', 12), ('depressing', 13), ('car', 13.0), ('poorly', 13.0), ('devoid', 13), ('mediocre', 14), ('bears', 14), ('pointless', 14.0), ('shallow', 14), ('worse', 16), ('generic', 16), ('loud', 16), ('unfunny', 17.0), ('suffers', 19.0), ('stupid', 21.0), ('mess', 28), ('flat', 28)]\n"
     ]
    }
   ],
   "source": [
    "from operator import itemgetter\n",
    "\n",
    "best_words = sorted(goodness, key=itemgetter(1))[-50:]\n",
    "good_words = sorted(badness, key=itemgetter(1))[-50:]\n",
    "\n",
    "# Some cool vizualization here?\n",
    "print best_words\n",
    "print \n",
    "print\n",
    "print good_words"
   ]
  },
  {
   "cell_type": "code",
   "execution_count": null,
   "metadata": {
    "collapsed": true
   },
   "outputs": [],
   "source": []
  }
 ],
 "metadata": {
  "kernelspec": {
   "display_name": "Python 2",
   "language": "python",
   "name": "python2"
  },
  "language_info": {
   "codemirror_mode": {
    "name": "ipython",
    "version": 2
   },
   "file_extension": ".py",
   "mimetype": "text/x-python",
   "name": "python",
   "nbconvert_exporter": "python",
   "pygments_lexer": "ipython2",
   "version": "2.7.13"
  }
 },
 "nbformat": 4,
 "nbformat_minor": 2
}
