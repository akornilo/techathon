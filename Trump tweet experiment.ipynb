{
 "cells": [
  {
   "cell_type": "code",
   "execution_count": 1,
   "metadata": {
    "collapsed": true
   },
   "outputs": [],
   "source": [
    "tweets = open(\"trump_tweets.csv\")\n"
   ]
  },
  {
   "cell_type": "code",
   "execution_count": 2,
   "metadata": {
    "collapsed": false
   },
   "outputs": [
    {
     "data": {
      "text/plain": [
       "<open file 'trump_tweets.csv', mode 'r' at 0x11201dae0>"
      ]
     },
     "execution_count": 2,
     "metadata": {},
     "output_type": "execute_result"
    }
   ],
   "source": [
    "tweets\n"
   ]
  },
  {
   "cell_type": "code",
   "execution_count": 3,
   "metadata": {
    "collapsed": true
   },
   "outputs": [],
   "source": [
    "tweets = [tweet.strip() for tweet in tweets][1:]"
   ]
  },
  {
   "cell_type": "code",
   "execution_count": 4,
   "metadata": {
    "collapsed": false
   },
   "outputs": [
    {
     "data": {
      "text/plain": [
       "\"763398630812311552,Morning Joe's weakness is its low ratings. I don't watch anymore but I heard he went wild against Rudy Giuliani and #2A - sad &amp; irrelevant!,Twitter for iPhone\""
      ]
     },
     "execution_count": 4,
     "metadata": {},
     "output_type": "execute_result"
    }
   ],
   "source": [
    "tweets[0]"
   ]
  },
  {
   "cell_type": "code",
   "execution_count": 5,
   "metadata": {
    "collapsed": true
   },
   "outputs": [],
   "source": [
    "import spacy"
   ]
  },
  {
   "cell_type": "code",
   "execution_count": 6,
   "metadata": {
    "collapsed": false
   },
   "outputs": [],
   "source": [
    "# need python -m spacy.en.download\n",
    "nlp = spacy.load('en')"
   ]
  },
  {
   "cell_type": "code",
   "execution_count": 7,
   "metadata": {
    "collapsed": false
   },
   "outputs": [],
   "source": [
    "doc = nlp(unicode(tweets[0]))"
   ]
  },
  {
   "cell_type": "code",
   "execution_count": 8,
   "metadata": {
    "collapsed": false
   },
   "outputs": [
    {
     "data": {
      "text/plain": [
       "763398630812311552,Morning Joe's weakness is its low ratings. I don't watch anymore but I heard he went wild against Rudy Giuliani and #2A - sad &amp; irrelevant!,Twitter for iPhone"
      ]
     },
     "execution_count": 8,
     "metadata": {},
     "output_type": "execute_result"
    }
   ],
   "source": [
    "doc"
   ]
  },
  {
   "cell_type": "code",
   "execution_count": 9,
   "metadata": {
    "collapsed": false
   },
   "outputs": [],
   "source": [
    "myents = []"
   ]
  },
  {
   "cell_type": "code",
   "execution_count": 10,
   "metadata": {
    "collapsed": false
   },
   "outputs": [],
   "source": [
    "docs = [nlp(unicode(tweet, errors='ignore')) for tweet in tweets]"
   ]
  },
  {
   "cell_type": "code",
   "execution_count": 11,
   "metadata": {
    "collapsed": false
   },
   "outputs": [],
   "source": [
    "for doc in docs:\n",
    "    myents += doc.ents"
   ]
  },
  {
   "cell_type": "code",
   "execution_count": 12,
   "metadata": {
    "collapsed": true
   },
   "outputs": [],
   "source": [
    "from collections import Counter"
   ]
  },
  {
   "cell_type": "code",
   "execution_count": 13,
   "metadata": {
    "collapsed": false
   },
   "outputs": [
    {
     "data": {
      "text/plain": [
       "[('Android', 308),\n",
       " ('Trump', 89),\n",
       " ('Twitter', 72),\n",
       " ('Hillary', 57),\n",
       " ('tonight', 49),\n",
       " ('Crooked Hillary', 48),\n",
       " ('today', 45),\n",
       " ('America', 41),\n",
       " ('Trump2016', 40),\n",
       " ('tomorrow', 35),\n",
       " ('Ted Cruz', 33),\n",
       " ('Ohio', 32),\n",
       " ('Twitter Web Client', 29),\n",
       " ('Clinton', 28),\n",
       " ('Pennsylvania', 28),\n",
       " ('New York', 28),\n",
       " ('Indiana', 27),\n",
       " ('Marco Rubio', 27),\n",
       " ('Bernie', 26),\n",
       " ('Florida', 26),\n",
       " ('Obama', 26),\n",
       " ('Republican', 25),\n",
       " ('Crooked Hillary Clinton', 25),\n",
       " ('Hillary Clinton', 24),\n",
       " ('U.S.', 24),\n",
       " ('ISIS', 20),\n",
       " ('American', 20),\n",
       " ('Rubio', 18),\n",
       " ('Cruz', 17),\n",
       " ('Bernie Sanders', 17),\n",
       " ('GOP', 17),\n",
       " ('two', 17),\n",
       " ('Wisconsin', 17),\n",
       " ('Kasich', 17),\n",
       " ('last night', 16),\n",
       " ('California', 16),\n",
       " ('yesterday', 16),\n",
       " ('Arizona', 15),\n",
       " ('one', 15),\n",
       " ('millions', 15),\n",
       " ('Donald Trump', 14),\n",
       " ('Texas', 14),\n",
       " ('the Republican Party', 13),\n",
       " ('Twitter for Android', 13),\n",
       " ('Melania', 13),\n",
       " ('CNN', 13),\n",
       " ('Democrats', 13),\n",
       " ('Virginia', 13),\n",
       " ('Lyin', 12),\n",
       " ('Tuesday', 11),\n",
       " ('Colorado', 11),\n",
       " ('Dems', 10),\n",
       " ('Michigan', 10),\n",
       " ('Fox', 10),\n",
       " ('North Carolina', 9),\n",
       " ('Cleveland', 9),\n",
       " ('Orlando', 9),\n",
       " ('first', 9),\n",
       " ('NAFTA', 9),\n",
       " ('Mexico', 9),\n",
       " ('Native American', 9),\n",
       " ('Connecticut', 8),\n",
       " ('DNC', 8),\n",
       " ('Sanders', 8),\n",
       " ('Elizabeth Warren', 8),\n",
       " ('Kaine', 7),\n",
       " ('Washington', 7),\n",
       " ('News', 7),\n",
       " ('Scotland', 7),\n",
       " ('7pm', 7),\n",
       " ('7:00', 7),\n",
       " ('Romney', 7),\n",
       " ('100%', 7),\n",
       " ('Eric', 7),\n",
       " ('2', 7),\n",
       " ('Kansas', 7),\n",
       " ('AmericaFirst', 7),\n",
       " ('&amp', 7),\n",
       " ('John Kasich', 7),\n",
       " ('this morning', 7),\n",
       " ('Russia', 7),\n",
       " ('Maryland', 7),\n",
       " ('China', 7),\n",
       " ('Americans', 7),\n",
       " ('Jeb', 6),\n",
       " ('D.C.', 6),\n",
       " ('Georgia', 6),\n",
       " ('Tampa', 6),\n",
       " ('Dallas', 6),\n",
       " ('Maine', 6),\n",
       " ('thousands', 6),\n",
       " ('1', 6),\n",
       " ('TPP', 6),\n",
       " ('San Jose', 6),\n",
       " ('Nebraska', 6),\n",
       " ('Brussels', 6),\n",
       " ('Kentucky', 6),\n",
       " ('Pittsburgh', 6),\n",
       " ('Bill', 6),\n",
       " ('Mike Pence', 6),\n",
       " ('NATO', 6),\n",
       " ('Bill Clinton', 6),\n",
       " ('Nevada', 6),\n",
       " ('Mississippi', 6),\n",
       " ('third', 5),\n",
       " ('Syrian', 5),\n",
       " (\"Hillary Clinton's\", 5),\n",
       " ('Louisiana', 5),\n",
       " ('the United States', 5),\n",
       " ('Mitt Romney', 5),\n",
       " ('Iowa', 5),\n",
       " ('3', 5),\n",
       " ('Delaware', 5),\n",
       " ('Israel', 5),\n",
       " ('zero', 5),\n",
       " ('Lindsey Graham', 5),\n",
       " ('State', 5),\n",
       " ('San Diego', 5),\n",
       " ('V.P.', 5),\n",
       " ('Senate', 5),\n",
       " ('Ted', 5),\n",
       " ('ZERO', 5),\n",
       " ('Phoenix', 4),\n",
       " ('Monday', 4),\n",
       " ('Missouri', 4),\n",
       " ('night', 4),\n",
       " ('Pocahontas', 4),\n",
       " ('T.V.', 4),\n",
       " ('this afternoon', 4),\n",
       " ('Today', 4),\n",
       " ('AMERICA', 4),\n",
       " ('years', 4),\n",
       " ('West Virginia', 4),\n",
       " ('16', 4),\n",
       " ('Idaho', 4),\n",
       " ('Marco', 4),\n",
       " ('New Hampshire', 4),\n",
       " ('4', 4),\n",
       " ('6/11', 4),\n",
       " ('Wichita', 4),\n",
       " ('FBI', 4),\n",
       " ('5', 4),\n",
       " ('@MELANIATRUMP', 4),\n",
       " ('Richmond', 4),\n",
       " ('Columbus', 4),\n",
       " ('the NY Times', 4),\n",
       " ('Tiffany', 4),\n",
       " ('Don', 4),\n",
       " ('South Carolina', 4),\n",
       " ('Hawaii', 4),\n",
       " ('Jeb Bush', 4),\n",
       " ('Rhode Island', 4),\n",
       " ('8pm', 4),\n",
       " ('Trump University', 4),\n",
       " ('Wednesday', 4),\n",
       " ('DonaldTrump', 4),\n",
       " ('Democratic', 4),\n",
       " ('November', 4),\n",
       " ('Turnberry', 4),\n",
       " ('Utah', 4),\n",
       " ('Islamic', 4),\n",
       " ('Jacksonville', 4),\n",
       " ('four', 3),\n",
       " ('6pm', 3),\n",
       " ('second', 3),\n",
       " ('Colorado Springs', 3),\n",
       " ('7pmE', 3),\n",
       " ('Club For Growth', 3),\n",
       " ('Las Vegas', 3),\n",
       " ('Fort Worth', 3),\n",
       " ('Tim Kaine', 3),\n",
       " ('Chicago', 3),\n",
       " ('Alabama', 3),\n",
       " ('Republicans', 3),\n",
       " ('33,000', 3),\n",
       " ('me.\",Twitter Web Client', 3),\n",
       " ('VA', 3),\n",
       " ('Cuba', 3),\n",
       " ('Facebook', 3),\n",
       " ('Clintons', 3),\n",
       " ('many years', 3),\n",
       " ('Debbie Wasserman Schultz', 3),\n",
       " ('1237', 3),\n",
       " ('Putin', 3),\n",
       " ('TRUMP', 3),\n",
       " ('Joe', 3),\n",
       " ('Bobby Knight', 3),\n",
       " ('Hispanic', 3),\n",
       " ('12', 3),\n",
       " ('17', 3),\n",
       " ('7:30', 3),\n",
       " ('New Mexico', 3),\n",
       " ('@realDonaldTrump', 3),\n",
       " ('Goofy Elizabeth Warren', 3),\n",
       " ('Megyn', 3),\n",
       " ('Thursday', 3),\n",
       " ('Denver', 3),\n",
       " ('Jason Greenblatt', 3),\n",
       " ('@nytimes', 3),\n",
       " ('Europe', 3),\n",
       " ('Tomorrow', 3),\n",
       " ('Illinois', 3),\n",
       " ('4pm', 3),\n",
       " ('Salt Lake City', 3),\n",
       " ('France', 3),\n",
       " ('Oregon', 3),\n",
       " ('the Republican Convention', 3),\n",
       " ('8:00 P.M.', 3),\n",
       " ('Khan', 3),\n",
       " ('the White House', 3),\n",
       " (\"Crooked Hillary's\", 3),\n",
       " ('Albany', 3),\n",
       " ('Cincinnati', 3),\n",
       " ('Massachusetts', 3),\n",
       " ('New Yorkers', 3),\n",
       " ('@CNN', 3),\n",
       " ('15,000', 3),\n",
       " ('38', 3),\n",
       " ('Nice', 3),\n",
       " ('10pm', 3),\n",
       " ('Buffalo', 3),\n",
       " ('Iran', 3),\n",
       " ('Donald', 3),\n",
       " ('Saturday', 3),\n",
       " ('SuperTuesday', 3),\n",
       " ('New Jersey', 3),\n",
       " ('Democrat', 3),\n",
       " ('RNC', 3),\n",
       " ('A.M. Enjoy!,Twitter', 3),\n",
       " ('Friday', 3),\n",
       " ('Chuck Todd', 3),\n",
       " ('Montana', 3),\n",
       " ('Toledo', 2),\n",
       " ('VoteTrump', 2),\n",
       " ('Redding', 2),\n",
       " ('the Democratic Convention', 2),\n",
       " ('help!\",Twitter Web Client', 2),\n",
       " ('Crazy Bernie', 2),\n",
       " ('Ailsa Course', 2),\n",
       " ('10,000', 2),\n",
       " ('Muslims', 2),\n",
       " ('MakeAmericaGreatAgain', 2),\n",
       " ('Adam Scott', 2),\n",
       " ('BREXIT', 2),\n",
       " ('Palestinian', 2),\n",
       " ('TrumpPence16', 2),\n",
       " ('Ted Cruz!,Twitter', 2),\n",
       " ('Iraq', 2),\n",
       " ('550%', 2),\n",
       " ('25,000', 2),\n",
       " ('PA.', 2),\n",
       " ('Radical Islam', 2),\n",
       " ('360', 2),\n",
       " ('Ireland', 2),\n",
       " ('Anaheim', 2),\n",
       " ('U.S.A.G.', 2),\n",
       " ('Portland', 2),\n",
       " ('3pm', 2),\n",
       " ('TrumpTrain', 2),\n",
       " ('50', 2),\n",
       " ('Chris', 2),\n",
       " ('Syracuse', 2),\n",
       " ('Place', 2),\n",
       " ('Madison', 2),\n",
       " ('Brexit', 2),\n",
       " ('NBC', 2),\n",
       " ('Border Patrol Agents', 2),\n",
       " ('5,600,000', 2),\n",
       " ('April 5th', 2),\n",
       " ('another four years', 2),\n",
       " ('Atlanta', 2),\n",
       " ('Daytona Beach', 2),\n",
       " ('Libya', 2),\n",
       " ('MAGA', 2),\n",
       " ('7:00 P.M.', 2),\n",
       " ('730488544700010496,\"Our', 2),\n",
       " ('1st', 2),\n",
       " ('South Bend', 2),\n",
       " ('Newt', 2),\n",
       " ('Ginsburg', 2),\n",
       " ('$50 million', 2),\n",
       " ('Hispanics', 2),\n",
       " ('Miami', 2),\n",
       " ('$$!\",Twitter', 2),\n",
       " ('@FoxNews', 2),\n",
       " ('Brian France', 2),\n",
       " ('Koch', 2),\n",
       " ('200', 2),\n",
       " ('743628318402961408,\"Thank', 2),\n",
       " ('people!,Twitter Web Client', 2),\n",
       " ('Sacramento', 2),\n",
       " ('MOVEMENT', 2),\n",
       " ('Lyin Ted Cruz', 2),\n",
       " ('Reagan', 2),\n",
       " ('Bethpage', 2),\n",
       " ('ON. Media', 2),\n",
       " ('Milwaukee', 2),\n",
       " ('6/10', 2),\n",
       " ('four more years', 2),\n",
       " ('FL.', 2),\n",
       " ('Millions', 2),\n",
       " ('Arkansas', 2),\n",
       " ('NH', 2),\n",
       " ('Greensboro', 2),\n",
       " ('USA', 2),\n",
       " ('Donald J. Trump\",Twitter', 2),\n",
       " ('Mexican', 2),\n",
       " ('@MittRomney', 2),\n",
       " ('Rand Paul', 2),\n",
       " ('98%', 2),\n",
       " ('Constitution', 2),\n",
       " ('tomorrow morning', 2),\n",
       " ('Gonzalo Curiel', 2),\n",
       " ('Syria', 2),\n",
       " ('20', 2),\n",
       " ('22', 2),\n",
       " ('Wall Street', 2),\n",
       " ('7', 2),\n",
       " ('Democratsboth', 2),\n",
       " ('Ukraine', 2),\n",
       " ('This Week', 2),\n",
       " ('Oklahoma', 2),\n",
       " ('8:30', 2),\n",
       " ('@AP', 2),\n",
       " ('Rochester', 2),\n",
       " ('1,000,000', 2),\n",
       " ('S.C.', 2),\n",
       " ('12:00', 2),\n",
       " ('Graham', 2),\n",
       " ('@foxandfriends', 2),\n",
       " ('@IvankaTrump', 2),\n",
       " ('Atlantic City', 2),\n",
       " ('VETERANS', 2),\n",
       " ('AZ', 2),\n",
       " ('HillaryClinton', 2),\n",
       " ('@FoxNewsSunday', 2),\n",
       " (\"Lyin'Ted Cruz\", 2),\n",
       " ('last week', 2),\n",
       " ('CBS', 2),\n",
       " ('Indianapolis', 2),\n",
       " ('Mar-a', 2),\n",
       " ('16,500', 2),\n",
       " ('2016', 2),\n",
       " ('Michael Flynn', 2),\n",
       " ('70%', 2),\n",
       " ('705399128180789248,\"\"\"@blt21muttrades', 2),\n",
       " ('Evangelicals', 2),\n",
       " ('Air Force One', 2),\n",
       " ('the day', 2),\n",
       " ('Paris', 2),\n",
       " ('Evansville', 2),\n",
       " ('Barbara Res', 2),\n",
       " ('the Republican National Convention', 2),\n",
       " ('Crooked', 2),\n",
       " ('35M', 2),\n",
       " ('Carmel', 2),\n",
       " ('Houston', 2),\n",
       " ('Four more years', 2),\n",
       " ('Atlantic', 2),\n",
       " ('$1 million', 2),\n",
       " ('Rowanne Brewer', 2),\n",
       " ('judgment.\",Twitter Web Client', 2),\n",
       " ('US', 2),\n",
       " ('UK', 2),\n",
       " ('Thousands', 2),\n",
       " ('Dayton', 2),\n",
       " ('one night', 2),\n",
       " ('WIN', 2),\n",
       " ('4/16', 2),\n",
       " ('@realDonaldTrump Trump', 2),\n",
       " ('Dustin', 2),\n",
       " ('millions of dollars', 2),\n",
       " ('Baltimore', 2),\n",
       " ('Paul Ryan', 2),\n",
       " ('the Cross Insurance Center', 1),\n",
       " ('708158520831553536,\"\"\"@adriparsonss', 1),\n",
       " ('NYT', 1),\n",
       " ('715980291672829953,\"My', 1),\n",
       " ('13 year', 1),\n",
       " ('718993739348361216,\"\"\"@PennyHicks13', 1),\n",
       " ('100 years', 1),\n",
       " ('Trump Supports Rolling Thunder', 1),\n",
       " ('735871869581205504,.@kimguilfoyle-', 1),\n",
       " ('731802331923263488,\"\"\"@DistlerJoyce', 1),\n",
       " ('Rolling Thunder', 1),\n",
       " ('762790167732035585,\"\\'As', 1),\n",
       " ('705005540326383616,\"\"\"@JoeNBC', 1),\n",
       " ('757309616254545920,\"Today', 1),\n",
       " ('757335224397225984,\"Crooked Hillary Clinton', 1),\n",
       " ('GQ', 1),\n",
       " ('Rudy Giuliani', 1),\n",
       " ('702680136513155072,\"\"\"@HosierN', 1),\n",
       " ('a day', 1),\n",
       " ('7:40', 1),\n",
       " ('732734411398119424,\"\"\"@CostaKenneth', 1),\n",
       " ('Freedom Coalition', 1),\n",
       " ('Only 38,000', 1),\n",
       " ('September 11th', 1),\n",
       " ('718996943100375040,\"\"\"@Kids123Nicholas', 1),\n",
       " ('w/Paul Ryan', 1),\n",
       " ('760184664468418560,Will', 1),\n",
       " ('A.C. Others', 1),\n",
       " ('760293742381244416,\"Just', 1),\n",
       " ('742469778560929793,Saudi', 1),\n",
       " ('ROLLING THUNDER.', 1),\n",
       " ('743766155093934080,MAKE', 1),\n",
       " ('Flying Trump Flag - Breitbart', 1),\n",
       " ('Collins', 1),\n",
       " ('$10.3B-$1.2M 74', 1),\n",
       " ('Harry Reid', 1),\n",
       " ('747873381077356545,\"\"\"@arnold_ziffel', 1),\n",
       " ('753209883202351104,\"Thank', 1),\n",
       " ('10T', 1),\n",
       " ('Disgusting Rubio', 1),\n",
       " ('Donald Trump.\",Twitter', 1),\n",
       " ('four days', 1),\n",
       " ('10%', 1),\n",
       " ('the Republican party', 1),\n",
       " ('722628702748688385,\"\"\"@bigop1', 1),\n",
       " ('738448988517453824,Crooked Hillary', 1),\n",
       " ('Trump Turnberry', 1),\n",
       " ('739998110915678208,A', 1),\n",
       " ('George S', 1),\n",
       " ('Russians', 1),\n",
       " ('West Virginia-', 1),\n",
       " ('708351381678088192,https://t.co/ZQ0osiFEJQ', 1),\n",
       " ('John Podestas Brother', 1),\n",
       " ('POTUS.', 1),\n",
       " ('20,000', 1),\n",
       " ('June', 1),\n",
       " ('750648675186147328,\"Crooked Hillary Clinton', 1),\n",
       " ('702668337671708677,\"\"\"@GriceCindy', 1),\n",
       " ('Dutchess County', 1),\n",
       " ('710928141112332288,Mitt Romney', 1),\n",
       " ('762106904436961280,\".@Larry_Kudlow - \\'', 1),\n",
       " ('Trump U', 1),\n",
       " ('759021886055387136,Crooked Hillary Clinton', 1),\n",
       " ('Sleepy Eyes', 1),\n",
       " ('Robert C. Oaks', 1),\n",
       " ('Wall Street.\",Twitter Web Client', 1),\n",
       " ('710409594204524544,Crazy', 1),\n",
       " ('710407581899079680,\"Stuart Stevens', 1),\n",
       " ('Jack Morgan', 1),\n",
       " ('705173204948656129,I', 1),\n",
       " ('Donald u', 1),\n",
       " ('Huntsville/Madison', 1),\n",
       " ('next Tuesday', 1),\n",
       " ('Washington Post', 1),\n",
       " ('PrimaryDay https://t.co/9rup33Rl29\",Twitter Web Client', 1),\n",
       " ('dishonest.\",Twitter Web', 1),\n",
       " ('LA', 1),\n",
       " ('Couric', 1),\n",
       " ('@SpeakerRyan', 1),\n",
       " ('@TheJusticeDept', 1),\n",
       " ('51,152', 1),\n",
       " ('80k', 1),\n",
       " ('704440884029493248,\"Phony Rubio', 1),\n",
       " ('732732783605469184,\"\"\"@KaceyIlliot1669', 1),\n",
       " ('702679818194841600,\"\"\"@ahernandez85a', 1),\n",
       " ('the Great Depression!\",Twitter for', 1),\n",
       " ('U R', 1),\n",
       " ('757552876348645377,\"If', 1),\n",
       " ('Clinton Foundation', 1),\n",
       " ('A.M. ENJOY!,Twitter', 1),\n",
       " ('749237508916056064,#AmericaFirst', 1),\n",
       " ('710452858043416577,\".@WSJ', 1),\n",
       " ('8:00', 1),\n",
       " ('719124172903997441,\"\"\"@getreal1234', 1),\n",
       " ('732533409285865473,\"Wow,', 1),\n",
       " ('A Strong America Endorses Donald Trump for president', 1),\n",
       " ('PORTLAND', 1),\n",
       " ('732734199678050304,\"\"\"@svhlevi', 1),\n",
       " ('40%', 1),\n",
       " ('BREXIT.', 1),\n",
       " ('Bobby', 1),\n",
       " ('749699315367612416,Crooked Hillary Clinton', 1),\n",
       " ('733778244076507136,\"Great day', 1),\n",
       " ('sixteen', 1),\n",
       " ('55,000,000', 1),\n",
       " ('706674352167772160,\"All', 1),\n",
       " ('730482068753424385,Goofy Elizabeth Warren', 1),\n",
       " ('713676890750509056,\"\"\"@Tytan01', 1),\n",
       " ('@cnn', 1),\n",
       " ('738385522301624323,Crooked Hillary Clinton', 1),\n",
       " ('734003305819570176,Crooked Hillary', 1),\n",
       " ('Sparks', 1),\n",
       " ('709580469323612160,\"\"\"@BrazielCarol', 1),\n",
       " ('759071976182861824,\"Wow', 1),\n",
       " ('728305900415533056,\"Bernie', 1),\n",
       " ('704756216157839360,MAKE', 1),\n",
       " ('BLANK', 1),\n",
       " ('713006012085760001,\"These', 1),\n",
       " ('Elie Wiesel', 1),\n",
       " ('N.Y.', 1),\n",
       " ('721450217384579076,\"\"\"@Trumptbird', 1),\n",
       " ('723682291843780608,\"Thank', 1),\n",
       " ('Obama plus!\",Twitter', 1),\n",
       " ('this year', 1),\n",
       " ('U.K.', 1),\n",
       " ('the Cadillac World Golf Championship @TrumpDoral', 1),\n",
       " ('739814823689605120,\"A', 1),\n",
       " ('725128021473132546,Thank', 1),\n",
       " ('179', 1),\n",
       " ('Trump U(', 1),\n",
       " ('752859250628648962,\"Bernie', 1),\n",
       " ('Congress', 1),\n",
       " ('AmericanSamoa', 1),\n",
       " ('716811670031581185,\"A great night', 1),\n",
       " ('744225952465489920,\"In', 1),\n",
       " ('5,481,737', 1),\n",
       " ('West Chester', 1),\n",
       " ('GOP Convention https://t.co/WLkmYjJJR9,Twitter Web Client', 1),\n",
       " ('La Crosse', 1),\n",
       " ('Charleston', 1),\n",
       " (\"The O'Reilly Factor\", 1),\n",
       " ('March 5, 2016', 1),\n",
       " ('Town Hall', 1),\n",
       " ('729643519846055936,\"\"\"@NathanDWilsonFL', 1),\n",
       " ('709541660758315009,\"THANK', 1),\n",
       " ('759848885900763141,\"\"\"@RealJamesWoods', 1),\n",
       " ('Primaries', 1),\n",
       " ('731801917379219456,\"\"\"@MrTohNey', 1),\n",
       " ('Christian', 1),\n",
       " ('@TomBarrackJr', 1),\n",
       " ('Donald Rumsfeld', 1),\n",
       " ('760070280932982784,\"Mr', 1),\n",
       " ('763385288295055360,\"\"\"@dbongino', 1),\n",
       " ('Raul Castro', 1),\n",
       " ('400,000', 1),\n",
       " ('760185067054465024,\"The', 1),\n",
       " ('740709235927977989,\"\"\"@Dale_Dangler', 1),\n",
       " ('Texans', 1),\n",
       " ('Bob Corker', 1),\n",
       " ('758731880183193601,\"\"\"@LallyRay', 1),\n",
       " ('750548959240843265,Crooked Hillary Clinton', 1),\n",
       " ('November 8', 1),\n",
       " ('PAC', 1),\n",
       " ('Tom Cotton', 1),\n",
       " ('703900742961270784,\"\"\"@ilduce2016', 1),\n",
       " ('11:30 A.M.', 1),\n",
       " ('719484455556161538,\"\"\"@TimeHasCome1', 1),\n",
       " ('John King', 1),\n",
       " ('718913705111613440,\"A', 1),\n",
       " ('@JerryJrFalwell', 1),\n",
       " ('Northern Mariana', 1),\n",
       " ('Fred', 1),\n",
       " ('@ChuckGrassley', 1),\n",
       " ('756975589110779904,\"\"\"@NancyNielsenn', 1),\n",
       " ('714818473382248448,\"I have', 1),\n",
       " ('Trump=Competence', 1),\n",
       " ('Realistic Trump Poll', 1),\n",
       " ('Hillary Clinton.,Twitter', 1),\n",
       " ('Ed Rollins', 1),\n",
       " ('Senators', 1),\n",
       " ('Memorial Day', 1),\n",
       " ('724050713953861632,I', 1),\n",
       " ('Corey Lewandowski', 1),\n",
       " ('3/8/2016', 1),\n",
       " ('732148805118885889,\"Bernie Sanders', 1),\n",
       " ('9:00 A.M.', 1),\n",
       " ('710918088460517376,\"Club For Growth', 1),\n",
       " ('726079789182808065,Thank', 1),\n",
       " ('First Amendment', 1),\n",
       " ('703915198864887810,\"The Republican Establishment', 1),\n",
       " ('Listened', 1),\n",
       " ('FL - 11', 1),\n",
       " ('1%', 1),\n",
       " ('365', 1),\n",
       " ('727095549703364608,\"Gov Mike Pence', 1),\n",
       " ('OREGON', 1),\n",
       " ('Lindsey', 1),\n",
       " ('737242189055594496,\"\"\"@FrankyLamouche', 1),\n",
       " ('Diamond and Silk', 1),\n",
       " ('hundreds', 1),\n",
       " ('728646402985869312,\"Joe Scarborough', 1),\n",
       " ('David Perdue', 1),\n",
       " (\"759070976181084160,In Hillary Clinton's\", 1),\n",
       " ('Salah Abdeslam', 1),\n",
       " ('735311006826700800,\"Thank', 1),\n",
       " ('712782227747311616,MAKE', 1),\n",
       " ('Laura', 1),\n",
       " ('722397728475582465,A big day', 1),\n",
       " ('VIOLENT.', 1),\n",
       " ('Ted Cruz!\",Twitter', 1),\n",
       " ('759008377577967616,\"Crooked Hillary Clinton', 1),\n",
       " ('the Democratic Party', 1),\n",
       " ('2nd', 1),\n",
       " ('7pm-', 1),\n",
       " ('727634574298255361,\"Wow', 1),\n",
       " ('732734623285927936,\"\"\"@thydanielflores', 1),\n",
       " ('Hoosier', 1),\n",
       " ('6:15 A.M.', 1),\n",
       " ('711742734508421120,\"\"\"@BarronG510', 1),\n",
       " ('West Allis', 1),\n",
       " ('DC', 1),\n",
       " ('Bernie!,Twitter for Android', 1),\n",
       " ('730054891897536514,\"WEST', 1),\n",
       " ('Fayetteville', 1),\n",
       " ('25K', 1),\n",
       " ('ASAP.', 1),\n",
       " ('Hillary Clinton - corruption', 1),\n",
       " ('738233323344920576,\"Thank', 1),\n",
       " ('718993345197027328,\"\"\"@Theresa_Cali', 1),\n",
       " ('Mechanicsburg', 1),\n",
       " ('Debbie Wasserman Shultz', 1),\n",
       " ('725115824206450688,Thank', 1),\n",
       " ('seven', 1),\n",
       " ('Ben Carson-', 1),\n",
       " ('714617467839111173,\"Lyin\\'Ted Cruz', 1),\n",
       " ('738600538976096256,\"\"\"@LunsfordWhitney', 1),\n",
       " ('the House Task Force', 1),\n",
       " ('Nevada-', 1),\n",
       " ('HANNITY EXCLUSIVE EVENT', 1),\n",
       " ('Long Island---', 1),\n",
       " ('704379918222696449,My', 1),\n",
       " ('Harrisburg', 1),\n",
       " ('727225626575421440,Honored', 1),\n",
       " ('@morningmika - Enjoy!,Twitter', 1),\n",
       " ('4 years', 1),\n",
       " ('Hillary!,Twitter Web Client', 1),\n",
       " ('703442830211964928,\"\"\"@itsblakec', 1),\n",
       " ('JUSTICES', 1),\n",
       " ('Des Moines', 1),\n",
       " ('Sarah', 1),\n",
       " ('741645740884303872,\"In', 1),\n",
       " ('USChamber', 1),\n",
       " ('735611127531347969,\"Thank', 1),\n",
       " ('Sheldon', 1),\n",
       " ('731501778873749505,Great', 1),\n",
       " ('739807883521630208,Crooked Hillary Clinton', 1),\n",
       " ('703896353416617984,\"\"\"@fairess369', 1),\n",
       " ('711087670412185601,\"\"\"@grammy620', 1),\n",
       " ('Special: Meet the Trumps', 1),\n",
       " ('7% to 0%', 1),\n",
       " ('706325441028689921,\"Thank', 1),\n",
       " ('716412682581053440,\"A GREAT DAY', 1),\n",
       " ('Baghdad', 1),\n",
       " ('Nikki Haley!,Twitter', 1),\n",
       " ('The National Enq.were', 1),\n",
       " ('747029963702996992,\"Crooked Hillary Clinton', 1),\n",
       " ('757577508346888192,\"Great', 1),\n",
       " ('714899439706574848,\"MAKE', 1),\n",
       " ('Piers', 1),\n",
       " ('CO GOP', 1),\n",
       " ('Fresno', 1),\n",
       " ('724633058398375936,Kasich', 1),\n",
       " ('Rules Committee', 1),\n",
       " ('761653875413618689,#MakeAmericaSafeAgain', 1),\n",
       " ('724942956306771968,\"MAKE', 1),\n",
       " ('733837704312410112,Crooked Hillary Clinton', 1),\n",
       " ('VETERANS ADMINISTRATION', 1),\n",
       " ('Sentinel', 1),\n",
       " ('722635529708285952,MAKE', 1),\n",
       " ('more than @realDonaldTrump', 1),\n",
       " ('Bangladesh', 1),\n",
       " ('less than 200 - with', 1),\n",
       " ('734231223002894337,Crooked Hillary', 1),\n",
       " ('Hillarys', 1),\n",
       " ('HILLARY CLINTON', 1),\n",
       " ('ImWithYou', 1),\n",
       " ('Cruz-Lawsuit', 1),\n",
       " ('731220438530052096,\"An', 1),\n",
       " (\"735822406514675712,The Inspector General's\", 1),\n",
       " ('6,000', 1),\n",
       " ('two hours', 1),\n",
       " ('736336010808688640,\"I', 1),\n",
       " ('Bobby!\",Twitter', 1),\n",
       " ('First', 1),\n",
       " ('712837228272164864,\"\"\"@tcsorr', 1),\n",
       " ('Jim Herman', 1),\n",
       " ('Haute', 1),\n",
       " ('730474838012366849,Thanks', 1),\n",
       " ('tonights', 1),\n",
       " ('702887030892658688,\"Why', 1),\n",
       " ('762781826549030912,Many', 1),\n",
       " ('8 PM', 1),\n",
       " ('Making Money', 1),\n",
       " ('Long Island!\",Twitter', 1),\n",
       " ('Davenport-', 1),\n",
       " ('723663455748763649,\"Thank', 1),\n",
       " ('Independent.\",Twitter Web Client', 1),\n",
       " ('703917643930210304,\"While', 1),\n",
       " ('African-American', 1),\n",
       " ('Cleveland-', 1),\n",
       " ('711209847702749184,\"If', 1),\n",
       " ('Pearl Harbor', 1),\n",
       " ('2nd A', 1),\n",
       " ('717189147497091072,\"\"\"@FoxNews', 1),\n",
       " ('739571700392722432,\"The Clinton', 1),\n",
       " ('the Washington Post', 1),\n",
       " ('746052286640689157,\"On', 1),\n",
       " ('7:15', 1),\n",
       " ('11/8/2016', 1),\n",
       " ('the Trump University', 1),\n",
       " ('Crooked Hillary V.P.', 1),\n",
       " ('731805070669557761,\"\"\"@tzard000', 1),\n",
       " ('756974970312462336,\"\"\"@OliMauritania', 1),\n",
       " ('702833969537142788,\"Mitt Romney', 1),\n",
       " ('732535400498143232,\"The', 1),\n",
       " ('ALSO', 1),\n",
       " ('762669882571980801,My', 1),\n",
       " ('727253907567726592,\"THANK', 1),\n",
       " ('732788306237345794,\"Paul', 1),\n",
       " ('John Allen', 1),\n",
       " ('Daytona', 1),\n",
       " ('her 29 years ago', 1),\n",
       " ('Wilmington', 1),\n",
       " ('Koran', 1),\n",
       " ('NOTHING', 1),\n",
       " ('Weeks - Breitbart', 1),\n",
       " ('704481336682266624,\"Great', 1),\n",
       " ('756477153986895872,Thank', 1),\n",
       " ('7:35', 1),\n",
       " ('$25 million', 1),\n",
       " ('way!,Twitter Web Client', 1),\n",
       " ('705149907183738880,\"\"\"@HavBat22', 1),\n",
       " ('Radical', 1),\n",
       " ('Charles', 1),\n",
       " ('Rowanne Brewer Lane', 1),\n",
       " ('Radical Islamic Terror', 1),\n",
       " ('755747074939949056,\"In November', 1),\n",
       " ('739080401747120128,Many', 1),\n",
       " ('2nd Amendment', 1),\n",
       " ('1:00pm', 1),\n",
       " ('19pts', 1),\n",
       " ('0', 1),\n",
       " ('755395950089211904,\"\"\"@RoxaneTancredi', 1),\n",
       " ('Donald J. Trump', 1),\n",
       " ('702155147695284224,\"\"\"@Vogelsong1', 1),\n",
       " ('705624889282068480,\"MY', 1),\n",
       " ('Scranton', 1),\n",
       " ('@A Savage Nation', 1),\n",
       " ('Rand', 1),\n",
       " ('POTUS. Killer', 1),\n",
       " ('8:30 A.M.', 1),\n",
       " ('738950669927886848,Muhammad Ali', 1),\n",
       " ('democrat', 1),\n",
       " ('858,233%', 1),\n",
       " ('Kevin', 1),\n",
       " ('732733747586469888,\"\"\"@johnjohnlacca', 1),\n",
       " ('705230846249324544,Millions of dollars', 1),\n",
       " ('Mahoning County', 1),\n",
       " ('Trump\",Twitter', 1),\n",
       " ('$400 million', 1),\n",
       " ('738236517949181952,\"\"\"@SCPioneer', 1),\n",
       " ('758350470402408449,\"Great', 1),\n",
       " ('707377544224509952,Thank', 1),\n",
       " ('752215352122208256,\"I', 1),\n",
       " ('718269255872081922,\"\"\"@DiCristo13', 1),\n",
       " ('749987869452828672,\"Crooked Hillary Clinton', 1),\n",
       " ('Ford', 1),\n",
       " ('Trump Jupiter', 1),\n",
       " ('708979864704049152,\"\"\"@alextrent4', 1),\n",
       " ('L.A.', 1),\n",
       " ('women.,Twitter Web Client', 1),\n",
       " ('727637487871479808,\"Thank', 1),\n",
       " ('730059920280793088,\"Via', 1),\n",
       " ('741754548004458496,\"Thank', 1),\n",
       " ('2:30', 1),\n",
       " ('709886343309107200,\"\"\"@J_Styborski', 1),\n",
       " ('757690132111777792,\"Clinton', 1),\n",
       " ('749929565661884417,\"In', 1),\n",
       " ('43%', 1),\n",
       " ('MI', 1),\n",
       " ('Michigan.\",Twitter', 1),\n",
       " ('Crimea', 1),\n",
       " ('703444081251254272,\"\"\"@JerryJrFalwell', 1),\n",
       " ('10pm EST', 1),\n",
       " ('Juan Williams', 1),\n",
       " ('761025834350018561,\"Thank', 1),\n",
       " ('Justice', 1),\n",
       " ('@SInow', 1),\n",
       " ('706812638215303168,\"Lindsey Graham', 1),\n",
       " ('737055532960223233,The Republican Party', 1),\n",
       " ('30%', 1),\n",
       " ('Pete', 1),\n",
       " ('743765281898536960,People', 1),\n",
       " ('the U.S. Senate', 1),\n",
       " ('10 million', 1),\n",
       " ('Ben', 1),\n",
       " ('Trump &amp', 1),\n",
       " ('711088013560778752,\"\"\"@AshleyEdam', 1),\n",
       " ('740513939574951936,\"\"\"@southpaw816', 1),\n",
       " ('Hayes', 1),\n",
       " ('714093135857631232,\"Wow', 1),\n",
       " ('Time', 1),\n",
       " ('MSG. Appreciate', 1),\n",
       " ('Cheryl Ann Kraft', 1),\n",
       " ('April 4th', 1),\n",
       " ('757775689525309440,\"Elizabeth Warren', 1),\n",
       " ('Pope', 1),\n",
       " ('Petraeus', 1),\n",
       " ('1314.5%', 1),\n",
       " ('Costa Mesa', 1),\n",
       " ('761331433810132992,\"Thank', 1),\n",
       " ('Sparks, Nevada', 1),\n",
       " ('Begala', 1),\n",
       " ('Media', 1),\n",
       " ('11:00', 1),\n",
       " ('745804574699692032,\"\"\"@justininglv', 1),\n",
       " ('761279538106097664,\"Great', 1),\n",
       " ('718992948193570816,\"\"\"@vivhall3', 1),\n",
       " ('759592590106849280,Nielson Media Research', 1),\n",
       " ('Munich.\",Twitter for Android', 1),\n",
       " (\"Bill O'Reilly\", 1),\n",
       " ('732988705531650048,\"Thank', 1),\n",
       " ('702561529447763968,MAKE', 1),\n",
       " ('747873880103059457,\"\"\"@bluedogdemky', 1),\n",
       " ('Lou Holtz - a', 1),\n",
       " ('Bill Kristol', 1),\n",
       " ('@FoxBusiness 7', 1),\n",
       " ('November..vote TRUMP', 1),\n",
       " (\"751405672877744128,Last night's\", 1),\n",
       " ('729716712124362754,Crooked Hillary Clinton', 1),\n",
       " ('722920297393995776,\"Thank', 1),\n",
       " (\"745296338758270976,Hillary Clinton's\", 1),\n",
       " ('Islam', 1),\n",
       " ('738495114532638720,\"\"\"@free_SA_BD', 1),\n",
       " ('732537744195522560,Crooked Hillary Clinton', 1),\n",
       " ('C.I.A.', 1),\n",
       " ('729404337164783617,\"Crooked Hillary', 1),\n",
       " ('@Reince Priebus', 1),\n",
       " ('737237313034563585,\"In', 1),\n",
       " ('714423264039317505,\"\"\"@nellalda', 1),\n",
       " ('Saudi Arabia', 1),\n",
       " ('755836720197795840,John Kasich', 1),\n",
       " ('719484822834581504,\"\"\"@WVTTS1017', 1),\n",
       " ('759222916387069952,\"As', 1),\n",
       " ('16.Apologize\",Twitter', 1),\n",
       " ('722181629528141824,Lyin', 1),\n",
       " ('702679486496706564,Ted Cruz', 1),\n",
       " ('Bernie.\",Twitter for Android', 1),\n",
       " ('37 minutes', 1),\n",
       " ('710563892687196160,MAKE', 1),\n",
       " ('Senate?,Twitter Web Client', 1),\n",
       " ('Rick Scott', 1),\n",
       " ('Common Core', 1),\n",
       " ('754303051389861888,\"Crooked Hillary', 1),\n",
       " ('744355251365511169,\"Donald Trump\\'s', 1),\n",
       " ('706530975992381441,Thank', 1),\n",
       " ('823', 1),\n",
       " ('733801387952340992,\"\"\"@montgomeriefdn', 1),\n",
       " (\"Mort Zuckerman's\", 1),\n",
       " ('Barack', 1),\n",
       " ('760420894271471620,The Washington Post', 1),\n",
       " ('increase!,Twitter Web Client', 1),\n",
       " ('740380953722421249,\"Thank', 1),\n",
       " ('711084345356738560,\"\"\"@cmichaeld2004', 1),\n",
       " ('Q2 2016', 1),\n",
       " ('735541674793783297,\"Thank', 1),\n",
       " ('745693121095303168,#Imwithyou', 1),\n",
       " ('738407796606013444,\"Wow', 1),\n",
       " ('Westfield', 1),\n",
       " ('12:15', 1),\n",
       " ('708332792028008448,\"Dr', 1),\n",
       " ('702367612232142848,\"THANK', 1),\n",
       " ('730493295550468096,Goofy Elizabeth Warren', 1),\n",
       " ('SYRACUSE - NOON', 1),\n",
       " ('1001', 1),\n",
       " ('12 years ago', 1),\n",
       " ('Russell Moore', 1),\n",
       " ('734066397425307648,MAKE', 1),\n",
       " ('California-', 1),\n",
       " ('Diamond', 1),\n",
       " ('752618593196597248,Great', 1),\n",
       " ('704834059915104256,Thank', 1),\n",
       " ('At least 1/2', 1),\n",
       " ('702308297886400513,My', 1),\n",
       " ('Meltdown.\",Twitter', 1),\n",
       " ('738132164399636480,Crooked Hillary Clinton', 1),\n",
       " ('756140881862766594,\"Great', 1),\n",
       " ('740707325590274049,\"\"\"@nauthizjane', 1),\n",
       " ('the Republican National Convention #', 1),\n",
       " ('724236172181049344,.@AndreBauer', 1),\n",
       " ('733682878278696960,Crooked Hillary Clinton-', 1),\n",
       " ('April this year', 1),\n",
       " ('11', 1),\n",
       " ('740707234968113152,\"\"\"@setfire2flames', 1),\n",
       " ('Best Golf Hotel 2016.We', 1),\n",
       " ('741988371174699009,Clinton', 1),\n",
       " ('V.P. choice.\",Twitter', 1),\n",
       " ('734066896794963968,\"Crooked Hillary Clintons', 1),\n",
       " ('VETERANS.', 1),\n",
       " ('712300954775887876,I', 1),\n",
       " ('713687943278424064,\"\"\"@pattiandsammi', 1),\n",
       " ('734468447829004288,Crooked Hillary', 1),\n",
       " ('Philadelphia', 1),\n",
       " ('Bongino', 1),\n",
       " ('this evening', 1),\n",
       " ('735959405565378560,\"My', 1),\n",
       " ('Trump for POTUS!\",Twitter', 1),\n",
       " ('@USChamber', 1),\n",
       " ('20%', 1),\n",
       " ('747227503329173505,\"\"\"@brazosboys', 1),\n",
       " ('705611414128500736,\"The Better Business Bureau', 1),\n",
       " ('Don King', 1),\n",
       " ('800- &amp', 1),\n",
       " ('NRA', 1),\n",
       " ('Trump Univ', 1),\n",
       " ('@PeteRose_14', 1),\n",
       " ('744519497764184064,\"\"\"@bfraser747', 1),\n",
       " ('30,000', 1),\n",
       " ('703562075616849920,\"\"\"@SassyPantsjj', 1),\n",
       " ('Chris Wallace', 1),\n",
       " ('politicians!,Twitter Web Client', 1),\n",
       " ('749698321074180096,Only', 1),\n",
       " ('Reuters', 1),\n",
       " ('709713295180169216,\"Good morning', 1),\n",
       " ('761773576101953536,\"Good', 1),\n",
       " ('10pmE w/ @MELANIATRUMP', 1),\n",
       " ('Hillary Just', 1),\n",
       " ('715758039836594176,The', 1),\n",
       " ('735345354992975873,\"\"\"@oasisupernova', 1),\n",
       " ('seven million', 1),\n",
       " ('earlier this year', 1),\n",
       " ('721371631118127104,\"Just', 1),\n",
       " ('12:00 A.M.  ', 1),\n",
       " ('8,646,551.Trump', 1),\n",
       " ('@NASCAR', 1),\n",
       " ('739082885857173505,We', 1),\n",
       " ('716780878777556994,\"I', 1),\n",
       " ('730823012463742976,Great day', 1),\n",
       " ('NewYorkValues', 1),\n",
       " ('morning', 1),\n",
       " ('3 hours', 1),\n",
       " ('VoteTrump!https://t.co/lsKdqGFyvQ\",Twitter', 1),\n",
       " ('712291375958659072,MAKE', 1),\n",
       " ('732990965426888705,Thank', 1),\n",
       " ('738495529005420544,\"\"\"@TaylorEdwards99', 1),\n",
       " ('Trump National Doral', 1),\n",
       " (\"Mitt Romney's\", 1),\n",
       " ('Trumps Speech', 1),\n",
       " ('Robert Jeffress', 1),\n",
       " ('746289394231828480,\"Self', 1),\n",
       " ('718269634814865410,\"\"\"@iamDaveK', 1),\n",
       " ('725419855265026048,\"THANK', 1),\n",
       " ('Cruz-Kasich', 1),\n",
       " ('Donald J Trump', 1),\n",
       " ('1 hour', 1),\n",
       " ('Bible', 1),\n",
       " ('Hillary Clintons', 1),\n",
       " ('Robert E. Payne', 1),\n",
       " ('FOX', 1),\n",
       " ('Repubs', 1),\n",
       " ('LGBT', 1),\n",
       " ('Sheldon Adelson', 1),\n",
       " ('78%', 1),\n",
       " ('RALLY', 1),\n",
       " ('732575682367258624,\"Crooked Hillary', 1),\n",
       " ('762982142783676416,\"\"\"@sprts08', 1),\n",
       " ('742437914731286530,\"TERRORISM', 1),\n",
       " ('MakeAmericaGreatAgain https://t.co/ZnnaSPF5or\",Twitter Web Client', 1),\n",
       " ('738599744759431168,\"\"\"@angeloftruth11', 1),\n",
       " ('69', 1),\n",
       " ('Fort Wayne', 1),\n",
       " ('WORST', 1),\n",
       " ('the U.S.A.G. So Bill', 1),\n",
       " ('723274222907301888,Cruz', 1),\n",
       " ('50K', 1),\n",
       " ('Trump Make America Great', 1),\n",
       " ('62.9%', 1),\n",
       " ('Phil', 1),\n",
       " ('JOB.\",Twitter for', 1),\n",
       " ('721695114943442946,Crooked Hillary Clinton', 1),\n",
       " ('Palm Beach', 1),\n",
       " ('718761006068051968,\"Bernie', 1),\n",
       " ('the United States!,Twitter for Android', 1),\n",
       " ('703252552641478656,\"Wow', 1),\n",
       " ('the 2nd Amendment', 1),\n",
       " ('746272130992644096,\"Just', 1),\n",
       " ('759513644258525184,\"Wow', 1),\n",
       " ('POTUS', 1),\n",
       " ('one million dollars', 1),\n",
       " ('758421383063961604,\"Thank', 1),\n",
       " ('737784398515441664,\"Katie', 1),\n",
       " ('727252046286450689,\"Thank', 1),\n",
       " ('757650904896139264,\"MAKE', 1),\n",
       " ('707386022569623552,Thank', 1),\n",
       " ('Advisory Committee', 1),\n",
       " ('#Trump2016', 1),\n",
       " ('735968169001684992,\"Today', 1),\n",
       " ('726045073775828992,\"Crooked Hillary Clinton', 1),\n",
       " ('72.8%', 1),\n",
       " ('747030708678430720,Clinton', 1),\n",
       " ('Friday afternoon', 1),\n",
       " ('Megan Kelly', 1),\n",
       " ('702706412980453380,Great', 1),\n",
       " ('Guy Romney', 1),\n",
       " ('759029315006705664,\"Crooked Hillary', 1),\n",
       " ('The Republican Establishment', 1),\n",
       " ('Crazy Bernie Sanders', 1),\n",
       " ('Reno', 1),\n",
       " ('Trump Tower-', 1),\n",
       " ('757916962269704192,\"Funny', 1),\n",
       " ('Wikileakes', 1),\n",
       " ('now.,Twitter Web Client', 1),\n",
       " ('743485792585146368,\"McAllen', 1),\n",
       " ('719626295248863232,Colorado Trump Delegates', 1),\n",
       " ('720821603064524800,\"MAKE', 1),\n",
       " ('745204320593940480,\"Crooked Hillary Clinton', 1),\n",
       " ...]"
      ]
     },
     "execution_count": 13,
     "metadata": {},
     "output_type": "execute_result"
    }
   ],
   "source": [
    "Counter(map(lambda x: str(x), myents)).most_common()"
   ]
  },
  {
   "cell_type": "code",
   "execution_count": null,
   "metadata": {
    "collapsed": true
   },
   "outputs": [],
   "source": []
  },
  {
   "cell_type": "code",
   "execution_count": 14,
   "metadata": {
    "collapsed": true
   },
   "outputs": [],
   "source": [
    "obama = open(\"stemmed-speeches/stemmed-obama-speeches/2005.04.23.txt\").read()"
   ]
  },
  {
   "cell_type": "code",
   "execution_count": 15,
   "metadata": {
    "collapsed": true
   },
   "outputs": [],
   "source": [
    "obama = obama.replace('\\\\n', '').replace('__NUM__', '').split('__PUNCT__')"
   ]
  },
  {
   "cell_type": "code",
   "execution_count": 16,
   "metadata": {
    "collapsed": false
   },
   "outputs": [],
   "source": [
    "word = doc[2]"
   ]
  },
  {
   "cell_type": "code",
   "execution_count": 17,
   "metadata": {
    "collapsed": false
   },
   "outputs": [],
   "source": [
    "trump = [\" \".join([d.lemma_ for d in doc]) for doc in docs]"
   ]
  },
  {
   "cell_type": "code",
   "execution_count": 18,
   "metadata": {
    "collapsed": true
   },
   "outputs": [],
   "source": [
    "nsamples = min(len(obama), len(trump))"
   ]
  },
  {
   "cell_type": "code",
   "execution_count": 19,
   "metadata": {
    "collapsed": false
   },
   "outputs": [],
   "source": [
    "obama, trump = obama[:nsamples], trump[:nsamples]"
   ]
  },
  {
   "cell_type": "code",
   "execution_count": 20,
   "metadata": {
    "collapsed": true
   },
   "outputs": [],
   "source": [
    "from sklearn.feature_extraction.text import CountVectorizer"
   ]
  },
  {
   "cell_type": "code",
   "execution_count": 21,
   "metadata": {
    "collapsed": false
   },
   "outputs": [],
   "source": [
    "all_data = obama + trump"
   ]
  },
  {
   "cell_type": "code",
   "execution_count": 22,
   "metadata": {
    "collapsed": true
   },
   "outputs": [],
   "source": [
    "vectorizer = CountVectorizer(min_df=5, stop_words='english')"
   ]
  },
  {
   "cell_type": "code",
   "execution_count": 23,
   "metadata": {
    "collapsed": true
   },
   "outputs": [],
   "source": [
    "X = vectorizer.fit_transform(all_data)"
   ]
  },
  {
   "cell_type": "code",
   "execution_count": 24,
   "metadata": {
    "collapsed": false
   },
   "outputs": [
    {
     "data": {
      "text/plain": [
       "<360x83 sparse matrix of type '<type 'numpy.int64'>'\n",
       "\twith 971 stored elements in Compressed Sparse Row format>"
      ]
     },
     "execution_count": 24,
     "metadata": {},
     "output_type": "execute_result"
    }
   ],
   "source": [
    "X # This is aweosme sentence vectors"
   ]
  },
  {
   "cell_type": "code",
   "execution_count": 25,
   "metadata": {
    "collapsed": false
   },
   "outputs": [],
   "source": [
    "y = [0] * nsamples + [1] * nsamples"
   ]
  },
  {
   "cell_type": "code",
   "execution_count": 26,
   "metadata": {
    "collapsed": true
   },
   "outputs": [],
   "source": [
    "from sklearn.model_selection import train_test_split"
   ]
  },
  {
   "cell_type": "code",
   "execution_count": 27,
   "metadata": {
    "collapsed": false
   },
   "outputs": [],
   "source": [
    "X_train, X_test, y_train, y_test = train_test_split(X, y, test_size=20)"
   ]
  },
  {
   "cell_type": "code",
   "execution_count": 28,
   "metadata": {
    "collapsed": false
   },
   "outputs": [],
   "source": [
    "from sklearn.svm import SVC"
   ]
  },
  {
   "cell_type": "code",
   "execution_count": 29,
   "metadata": {
    "collapsed": true
   },
   "outputs": [],
   "source": [
    "clf = SVC(kernel='linear')"
   ]
  },
  {
   "cell_type": "code",
   "execution_count": 30,
   "metadata": {
    "collapsed": false
   },
   "outputs": [
    {
     "data": {
      "text/plain": [
       "SVC(C=1.0, cache_size=200, class_weight=None, coef0=0.0,\n",
       "  decision_function_shape=None, degree=3, gamma='auto', kernel='linear',\n",
       "  max_iter=-1, probability=False, random_state=None, shrinking=True,\n",
       "  tol=0.001, verbose=False)"
      ]
     },
     "execution_count": 30,
     "metadata": {},
     "output_type": "execute_result"
    }
   ],
   "source": [
    "clf.fit(X_train, y_train)\n"
   ]
  },
  {
   "cell_type": "code",
   "execution_count": 31,
   "metadata": {
    "collapsed": false
   },
   "outputs": [
    {
     "data": {
      "text/plain": [
       "1.0"
      ]
     },
     "execution_count": 31,
     "metadata": {},
     "output_type": "execute_result"
    }
   ],
   "source": [
    "clf.score(X_test, y_test)"
   ]
  },
  {
   "cell_type": "code",
   "execution_count": 32,
   "metadata": {
    "collapsed": false
   },
   "outputs": [
    {
     "data": {
      "text/plain": [
       "0.95588235294117652"
      ]
     },
     "execution_count": 32,
     "metadata": {},
     "output_type": "execute_result"
    }
   ],
   "source": [
    "clf.score(X_train, y_train)"
   ]
  },
  {
   "cell_type": "code",
   "execution_count": 33,
   "metadata": {
    "collapsed": false
   },
   "outputs": [
    {
     "data": {
      "text/plain": [
       "<1x83 sparse matrix of type '<type 'numpy.int64'>'\n",
       "\twith 1 stored elements in Compressed Sparse Row format>"
      ]
     },
     "execution_count": 33,
     "metadata": {},
     "output_type": "execute_result"
    }
   ],
   "source": [
    "X_test[0]"
   ]
  },
  {
   "cell_type": "code",
   "execution_count": 34,
   "metadata": {
    "collapsed": true
   },
   "outputs": [],
   "source": [
    "i_to_w = {v: k for k, v in vectorizer.vocabulary_.items()}"
   ]
  },
  {
   "cell_type": "code",
   "execution_count": 35,
   "metadata": {
    "collapsed": true
   },
   "outputs": [],
   "source": [
    "ws = [i_to_w[i] for i in xrange(len(i_to_w))]"
   ]
  },
  {
   "cell_type": "code",
   "execution_count": 36,
   "metadata": {
    "collapsed": true
   },
   "outputs": [],
   "source": [
    "coefs = clf.coef_.toarray()[0]"
   ]
  },
  {
   "cell_type": "code",
   "execution_count": 37,
   "metadata": {
    "collapsed": false,
    "scrolled": true
   },
   "outputs": [],
   "source": [
    "coefs_to_words = sorted(zip(coefs, ws))[-100:]"
   ]
  },
  {
   "cell_type": "code",
   "execution_count": 38,
   "metadata": {
    "collapsed": false
   },
   "outputs": [
    {
     "name": "stdout",
     "output_type": "stream",
     "text": [
      "[(-1.0, u'work'), (-0.3017806663787479, u'economi'), (-0.3017806663787479, u'thi'), (-0.23202745494867558, u'america'), (-0.23202745494867558, u'ethanol'), (-0.23202745494867558, u'fuel'), (-0.15449930391310482, u'ar'), (-0.15449930391310482, u'price'), (-0.12813280605549898, u'famili'), (-0.11374270882317306, u'job'), (-0.11264375752250122, u'know'), (-0.11241279077605955, u'farm'), (-0.00035838959654113656, u'ask'), (-0.00021673542453412142, u'colleg'), (-0.00021673542453412142, u'middl'), (-0.0001903732161084434, u'illinoi'), (-0.0001903732161084434, u'southern'), (-0.00018290232627462231, u'look'), (-0.00018139109625512706, u'research'), (-0.00015622034039153299, u'great'), (-9.7775317875858914e-05, u'need'), (-9.7099628357494305e-05, u'washington'), (-9.4950334415801804e-05, u'agricultur'), (-1.342812129040416e-05, u'year'), (0.0, u'answer'), (0.0, u'bad'), (0.0, u'client'), (0.0, u'convention'), (0.0, u'countri'), (0.0, u'dai'), (0.0, u'e85'), (0.0, u'grow'), (0.0, u'ha'), (0.0, u'help'), (0.0, u'just'), (0.0, u'live'), (0.0, u'make'), (0.0, u'medium'), (0.0, u'million'), (0.0, u'new'), (0.0, u'oil'), (0.0, u'onli'), (0.0, u'people'), (0.0, u'question'), (0.0, u'say'), (0.0, u'small'), (0.0, u'speech'), (0.0, u'talk'), (0.0, u'wa'), (0.0, u'want'), (0.0, u'web'), (0.0, u'world'), (0.00036040315402996459, u'like'), (0.00091395604181262655, u'pennsylvania'), (0.0012555861921356246, u'crooked'), (0.11239711220401427, u'don'), (0.20985444619066948, u'obama'), (0.20985444619066948, u'president'), (0.2422145377228157, u'support'), (0.32008744585599885, u'pm'), (0.37034734377831469, u'imwithyou'), (0.37034734377831469, u'maga'), (0.4192571732872058, u'cnn'), (0.42272415537576147, u'rise'), (0.49116665249788249, u'clinton'), (0.60331877940920831, u'win'), (0.62911161947787531, u'iphone'), (0.69581728924856412, u'tomorrow'), (0.69597315137292637, u'join'), (0.83868833548214061, u'twitt'), (0.95171401261861355, u'twitter'), (0.9830678057556923, u'florida'), (0.98333339933700237, u'colorado'), (1.0, u'crookedhillary'), (1.0, u'daytona'), (1.0, u'trumppence16'), (1.0166611030150108, u'thank'), (1.1612907286228786, u'android'), (1.3037304497141671, u'amp'), (1.3962660982858388, u'hillary'), (1.5772234592888663, u'trump'), (1.999934305109345, u'https'), (1.9999641821708447, u'makeamericagreatagain')]\n"
     ]
    }
   ],
   "source": [
    "print coefs_to_words"
   ]
  },
  {
   "cell_type": "code",
   "execution_count": 39,
   "metadata": {
    "collapsed": false
   },
   "outputs": [
    {
     "name": "stderr",
     "output_type": "stream",
     "text": [
      "/Users/thomas.allen/mc/envs/tc/lib/python2.7/site-packages/matplotlib/font_manager.py:273: UserWarning: Matplotlib is building the font cache using fc-list. This may take a moment.\n",
      "  warnings.warn('Matplotlib is building the font cache using fc-list. This may take a moment.')\n"
     ]
    }
   ],
   "source": [
    "import matplotlib.pyplot as plt"
   ]
  },
  {
   "cell_type": "code",
   "execution_count": 40,
   "metadata": {
    "collapsed": true
   },
   "outputs": [],
   "source": [
    "import numpy as np"
   ]
  },
  {
   "cell_type": "code",
   "execution_count": 41,
   "metadata": {
    "collapsed": true
   },
   "outputs": [],
   "source": [
    "_, plot = plt.subplots()"
   ]
  },
  {
   "cell_type": "code",
   "execution_count": 42,
   "metadata": {
    "collapsed": false
   },
   "outputs": [
    {
     "data": {
      "text/plain": [
       "<matplotlib.collections.PathCollection at 0x11643e490>"
      ]
     },
     "execution_count": 42,
     "metadata": {},
     "output_type": "execute_result"
    }
   ],
   "source": [
    "plot.scatter(coefs, np.zeros_like(np.arange(len(ws))))"
   ]
  },
  {
   "cell_type": "code",
   "execution_count": 43,
   "metadata": {
    "collapsed": true
   },
   "outputs": [],
   "source": [
    "for i, w in enumerate(ws):\n",
    "    plot.annotate(w, (coefs[i], i))"
   ]
  },
  {
   "cell_type": "code",
   "execution_count": 44,
   "metadata": {
    "collapsed": false
   },
   "outputs": [
    {
     "data": {
      "image/png": "[encoded data removed]",
      "text/plain": [
       "<matplotlib.figure.Figure at 0x1160c7ed0>"
      ]
     },
     "metadata": {},
     "output_type": "display_data"
    }
   ],
   "source": [
    "plt.show()"
   ]
  }
 ],
 "metadata": {
  "kernelspec": {
   "display_name": "Python 2",
   "language": "python",
   "name": "python2"
  },
  "language_info": {
   "codemirror_mode": {
    "name": "ipython",
    "version": 2
   },
   "file_extension": ".py",
   "mimetype": "text/x-python",
   "name": "python",
   "nbconvert_exporter": "python",
   "pygments_lexer": "ipython2",
   "version": "2.7.13"
  }
 },
 "nbformat": 4,
 "nbformat_minor": 2
}
